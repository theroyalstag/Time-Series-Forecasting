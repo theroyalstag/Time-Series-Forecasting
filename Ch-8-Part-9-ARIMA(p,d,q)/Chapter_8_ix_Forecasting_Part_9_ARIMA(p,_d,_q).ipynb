{
  "nbformat": 4,
  "nbformat_minor": 0,
  "metadata": {
    "colab": {
      "name": "Chapter-8-ix-Forecasting-Part-9-ARIMA(p, d, q).ipynb",
      "provenance": []
    },
    "kernelspec": {
      "name": "python3",
      "display_name": "Python 3"
    },
    "language_info": {
      "name": "python"
    }
  },
  "cells": [
    {
      "cell_type": "code",
      "execution_count": null,
      "metadata": {
        "id": "C3BSkvvPAtJM"
      },
      "outputs": [],
      "source": [
        "import warnings\n",
        "warnings.filterwarnings(\"ignore\")"
      ]
    },
    {
      "cell_type": "code",
      "source": [
        "import numpy as np\n",
        "import pandas as pd"
      ],
      "metadata": {
        "id": "eeQ2qIUrBo0D"
      },
      "execution_count": null,
      "outputs": []
    },
    {
      "cell_type": "code",
      "source": [
        "df = pd.read_csv('/content/Airline_Passangers.csv')"
      ],
      "metadata": {
        "id": "S7g-SGPvBqp3"
      },
      "execution_count": null,
      "outputs": []
    },
    {
      "cell_type": "code",
      "source": [
        "df.isnull().sum()"
      ],
      "metadata": {
        "colab": {
          "base_uri": "https://localhost:8080/"
        },
        "id": "6L7L1EIgCSwu",
        "outputId": "9198ad1b-90b2-426b-d936-bc48d7257b71"
      },
      "execution_count": null,
      "outputs": [
        {
          "output_type": "execute_result",
          "data": {
            "text/plain": [
              "Month         0\n",
              "Passengers    0\n",
              "dtype: int64"
            ]
          },
          "metadata": {},
          "execution_count": 9
        }
      ]
    },
    {
      "cell_type": "code",
      "source": [
        "df.shape"
      ],
      "metadata": {
        "colab": {
          "base_uri": "https://localhost:8080/"
        },
        "id": "vdDIcigCCWHi",
        "outputId": "d854e79b-b782-423a-c3b9-a31d2fd9a80a"
      },
      "execution_count": null,
      "outputs": [
        {
          "output_type": "execute_result",
          "data": {
            "text/plain": [
              "(144, 2)"
            ]
          },
          "metadata": {},
          "execution_count": 10
        }
      ]
    },
    {
      "cell_type": "markdown",
      "source": [
        "**Building ARIMA(p,d,q) model:**\n",
        "\n",
        "\n",
        "*   order = (1,1,1)"
      ],
      "metadata": {
        "id": "82CSStQ0Cfi5"
      }
    },
    {
      "cell_type": "code",
      "source": [
        "from statsmodels.tsa.arima_model import ARIMA"
      ],
      "metadata": {
        "id": "RBBYLUy5CaHx"
      },
      "execution_count": null,
      "outputs": []
    },
    {
      "cell_type": "code",
      "source": [
        "order = (1,1,1)"
      ],
      "metadata": {
        "id": "fGT5d9c4C55y"
      },
      "execution_count": null,
      "outputs": []
    },
    {
      "cell_type": "code",
      "source": [
        "model = ARIMA(df.Passengers[:60],order=order)"
      ],
      "metadata": {
        "id": "bWlBP5lQCy1I"
      },
      "execution_count": null,
      "outputs": []
    },
    {
      "cell_type": "code",
      "source": [
        "ARIMA_model = model.fit()"
      ],
      "metadata": {
        "id": "M1krc2zNC2oT"
      },
      "execution_count": null,
      "outputs": []
    },
    {
      "cell_type": "code",
      "source": [
        "ARIMA_model.summary2()"
      ],
      "metadata": {
        "colab": {
          "base_uri": "https://localhost:8080/",
          "height": 358
        },
        "id": "oo5ZMfngDAnQ",
        "outputId": "63a18792-ba1e-470a-c9b5-38a3c9bcd42d"
      },
      "execution_count": null,
      "outputs": [
        {
          "output_type": "execute_result",
          "data": {
            "text/plain": [
              "<class 'statsmodels.iolib.summary2.Summary'>\n",
              "\"\"\"\n",
              "                          Results: ARIMA\n",
              "==================================================================\n",
              "Model:              ARIMA            BIC:                 434.2349\n",
              "Dependent Variable: D.Passengers     Log-Likelihood:      -209.29 \n",
              "Date:               2022-08-29 19:22 Scale:               1.0000  \n",
              "No. Observations:   50               Method:              css-mle \n",
              "Df Model:           3                Sample:              1       \n",
              "Df Residuals:       47                                    1       \n",
              "Converged:          1.0000           S.D. of innovations: 15.647  \n",
              "No. Iterations:     8.0000           HQIC:                429.499 \n",
              "AIC:                426.5868                                      \n",
              "------------------------------------------------------------------\n",
              "                    Coef.  Std.Err.    t    P>|t|   [0.025  0.975]\n",
              "------------------------------------------------------------------\n",
              "const               2.4771   2.4012  1.0316 0.3023 -2.2291  7.1833\n",
              "ar.L1.D.Passengers -0.8418   0.0889 -9.4698 0.0000 -1.0160 -0.6676\n",
              "ma.L1.D.Passengers  1.0000      nan     nan    nan     nan     nan\n",
              "--------------------------------------------------------------------------\n",
              "                 Real          Imaginary         Modulus         Frequency\n",
              "--------------------------------------------------------------------------\n",
              "AR.1           -1.1879            0.0000          1.1879            0.5000\n",
              "MA.1           -1.0000            0.0000          1.0000            0.5000\n",
              "==================================================================\n",
              "\n",
              "\"\"\""
            ],
            "text/html": [
              "<table class=\"simpletable\">\n",
              "<tr>\n",
              "        <td>Model:</td>              <td>ARIMA</td>              <td>BIC:</td>         <td>434.2349</td>\n",
              "</tr>\n",
              "<tr>\n",
              "  <td>Dependent Variable:</td>   <td>D.Passengers</td>      <td>Log-Likelihood:</td>    <td>-209.29</td>\n",
              "</tr>\n",
              "<tr>\n",
              "         <td>Date:</td>        <td>2022-08-29 19:22</td>        <td>Scale:</td>         <td>1.0000</td> \n",
              "</tr>\n",
              "<tr>\n",
              "   <td>No. Observations:</td>         <td>50</td>               <td>Method:</td>        <td>css-mle</td>\n",
              "</tr>\n",
              "<tr>\n",
              "       <td>Df Model:</td>              <td>3</td>               <td>Sample:</td>           <td>1</td>   \n",
              "</tr>\n",
              "<tr>\n",
              "     <td>Df Residuals:</td>           <td>47</td>                  <td></td>               <td>1</td>   \n",
              "</tr>\n",
              "<tr>\n",
              "      <td>Converged:</td>           <td>1.0000</td>      <td>S.D. of innovations:</td>  <td>15.647</td> \n",
              "</tr>\n",
              "<tr>\n",
              "    <td>No. Iterations:</td>        <td>8.0000</td>              <td>HQIC:</td>         <td>429.499</td>\n",
              "</tr>\n",
              "<tr>\n",
              "         <td>AIC:</td>             <td>426.5868</td>               <td></td>               <td></td>    \n",
              "</tr>\n",
              "</table>\n",
              "<table class=\"simpletable\">\n",
              "<tr>\n",
              "           <td></td>           <th>Coef.</th>  <th>Std.Err.</th>    <th>t</th>     <th>P>|t|</th> <th>[0.025</th>  <th>0.975]</th> \n",
              "</tr>\n",
              "<tr>\n",
              "  <th>const</th>              <td>2.4771</td>   <td>2.4012</td>  <td>1.0316</td>  <td>0.3023</td> <td>-2.2291</td> <td>7.1833</td> \n",
              "</tr>\n",
              "<tr>\n",
              "  <th>ar.L1.D.Passengers</th> <td>-0.8418</td>  <td>0.0889</td>  <td>-9.4698</td> <td>0.0000</td> <td>-1.0160</td> <td>-0.6676</td>\n",
              "</tr>\n",
              "<tr>\n",
              "  <th>ma.L1.D.Passengers</th> <td>1.0000</td>     <td>nan</td>     <td>nan</td>     <td>nan</td>    <td>nan</td>     <td>nan</td>  \n",
              "</tr>\n",
              "</table>\n",
              "<table class=\"simpletable\">\n",
              "<tr>\n",
              "    <td></td>    <th>Real</th>   <th>Imaginary</th> <th>Modulus</th> <th>Frequency</th>\n",
              "</tr>\n",
              "<tr>\n",
              "  <th>AR.1</th> <td>-1.1879</td>  <td>0.0000</td>   <td>1.1879</td>   <td>0.5000</td>  \n",
              "</tr>\n",
              "<tr>\n",
              "  <th>MA.1</th> <td>-1.0000</td>  <td>0.0000</td>   <td>1.0000</td>   <td>0.5000</td>  \n",
              "</tr>\n",
              "</table>"
            ]
          },
          "metadata": {},
          "execution_count": 25
        }
      ]
    },
    {
      "cell_type": "code",
      "source": [],
      "metadata": {
        "id": "YNXAud9LDfTf"
      },
      "execution_count": null,
      "outputs": []
    }
  ]
}