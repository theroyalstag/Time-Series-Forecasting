{
  "nbformat": 4,
  "nbformat_minor": 0,
  "metadata": {
    "colab": {
      "name": "Chapter-8-vi-Forecasting-Part-6-AR(p).ipynb",
      "provenance": []
    },
    "kernelspec": {
      "name": "python3",
      "display_name": "Python 3"
    },
    "language_info": {
      "name": "python"
    }
  },
  "cells": [
    {
      "cell_type": "code",
      "execution_count": 94,
      "metadata": {
        "id": "cL6JbYj3Kg3v"
      },
      "outputs": [],
      "source": [
        "import warnings\n",
        "warnings.filterwarnings(\"ignore\")"
      ]
    },
    {
      "cell_type": "code",
      "source": [
        "import pandas as pd\n",
        "import numpy as np\n",
        "import matplotlib.pyplot as plt\n",
        "%matplotlib inline"
      ],
      "metadata": {
        "id": "FJzh1LMDKoF-"
      },
      "execution_count": 95,
      "outputs": []
    },
    {
      "cell_type": "code",
      "source": [
        "df = pd.read_csv('/content/Airline_Passangers.csv')"
      ],
      "metadata": {
        "id": "YYCvLjFTLGFH"
      },
      "execution_count": 96,
      "outputs": []
    },
    {
      "cell_type": "code",
      "source": [
        "df.head(3)"
      ],
      "metadata": {
        "colab": {
          "base_uri": "https://localhost:8080/",
          "height": 143
        },
        "id": "UBlAJQNfLQvV",
        "outputId": "19a28dd3-d128-4c57-aa3b-bdd66a994111"
      },
      "execution_count": 97,
      "outputs": [
        {
          "output_type": "execute_result",
          "data": {
            "text/plain": [
              "     Month  Passengers\n",
              "0  1949-01         112\n",
              "1  1949-02         118\n",
              "2  1949-03         132"
            ],
            "text/html": [
              "\n",
              "  <div id=\"df-d3ef9140-56da-448e-b847-655fb7cb9c46\">\n",
              "    <div class=\"colab-df-container\">\n",
              "      <div>\n",
              "<style scoped>\n",
              "    .dataframe tbody tr th:only-of-type {\n",
              "        vertical-align: middle;\n",
              "    }\n",
              "\n",
              "    .dataframe tbody tr th {\n",
              "        vertical-align: top;\n",
              "    }\n",
              "\n",
              "    .dataframe thead th {\n",
              "        text-align: right;\n",
              "    }\n",
              "</style>\n",
              "<table border=\"1\" class=\"dataframe\">\n",
              "  <thead>\n",
              "    <tr style=\"text-align: right;\">\n",
              "      <th></th>\n",
              "      <th>Month</th>\n",
              "      <th>Passengers</th>\n",
              "    </tr>\n",
              "  </thead>\n",
              "  <tbody>\n",
              "    <tr>\n",
              "      <th>0</th>\n",
              "      <td>1949-01</td>\n",
              "      <td>112</td>\n",
              "    </tr>\n",
              "    <tr>\n",
              "      <th>1</th>\n",
              "      <td>1949-02</td>\n",
              "      <td>118</td>\n",
              "    </tr>\n",
              "    <tr>\n",
              "      <th>2</th>\n",
              "      <td>1949-03</td>\n",
              "      <td>132</td>\n",
              "    </tr>\n",
              "  </tbody>\n",
              "</table>\n",
              "</div>\n",
              "      <button class=\"colab-df-convert\" onclick=\"convertToInteractive('df-d3ef9140-56da-448e-b847-655fb7cb9c46')\"\n",
              "              title=\"Convert this dataframe to an interactive table.\"\n",
              "              style=\"display:none;\">\n",
              "        \n",
              "  <svg xmlns=\"http://www.w3.org/2000/svg\" height=\"24px\"viewBox=\"0 0 24 24\"\n",
              "       width=\"24px\">\n",
              "    <path d=\"M0 0h24v24H0V0z\" fill=\"none\"/>\n",
              "    <path d=\"M18.56 5.44l.94 2.06.94-2.06 2.06-.94-2.06-.94-.94-2.06-.94 2.06-2.06.94zm-11 1L8.5 8.5l.94-2.06 2.06-.94-2.06-.94L8.5 2.5l-.94 2.06-2.06.94zm10 10l.94 2.06.94-2.06 2.06-.94-2.06-.94-.94-2.06-.94 2.06-2.06.94z\"/><path d=\"M17.41 7.96l-1.37-1.37c-.4-.4-.92-.59-1.43-.59-.52 0-1.04.2-1.43.59L10.3 9.45l-7.72 7.72c-.78.78-.78 2.05 0 2.83L4 21.41c.39.39.9.59 1.41.59.51 0 1.02-.2 1.41-.59l7.78-7.78 2.81-2.81c.8-.78.8-2.07 0-2.86zM5.41 20L4 18.59l7.72-7.72 1.47 1.35L5.41 20z\"/>\n",
              "  </svg>\n",
              "      </button>\n",
              "      \n",
              "  <style>\n",
              "    .colab-df-container {\n",
              "      display:flex;\n",
              "      flex-wrap:wrap;\n",
              "      gap: 12px;\n",
              "    }\n",
              "\n",
              "    .colab-df-convert {\n",
              "      background-color: #E8F0FE;\n",
              "      border: none;\n",
              "      border-radius: 50%;\n",
              "      cursor: pointer;\n",
              "      display: none;\n",
              "      fill: #1967D2;\n",
              "      height: 32px;\n",
              "      padding: 0 0 0 0;\n",
              "      width: 32px;\n",
              "    }\n",
              "\n",
              "    .colab-df-convert:hover {\n",
              "      background-color: #E2EBFA;\n",
              "      box-shadow: 0px 1px 2px rgba(60, 64, 67, 0.3), 0px 1px 3px 1px rgba(60, 64, 67, 0.15);\n",
              "      fill: #174EA6;\n",
              "    }\n",
              "\n",
              "    [theme=dark] .colab-df-convert {\n",
              "      background-color: #3B4455;\n",
              "      fill: #D2E3FC;\n",
              "    }\n",
              "\n",
              "    [theme=dark] .colab-df-convert:hover {\n",
              "      background-color: #434B5C;\n",
              "      box-shadow: 0px 1px 3px 1px rgba(0, 0, 0, 0.15);\n",
              "      filter: drop-shadow(0px 1px 2px rgba(0, 0, 0, 0.3));\n",
              "      fill: #FFFFFF;\n",
              "    }\n",
              "  </style>\n",
              "\n",
              "      <script>\n",
              "        const buttonEl =\n",
              "          document.querySelector('#df-d3ef9140-56da-448e-b847-655fb7cb9c46 button.colab-df-convert');\n",
              "        buttonEl.style.display =\n",
              "          google.colab.kernel.accessAllowed ? 'block' : 'none';\n",
              "\n",
              "        async function convertToInteractive(key) {\n",
              "          const element = document.querySelector('#df-d3ef9140-56da-448e-b847-655fb7cb9c46');\n",
              "          const dataTable =\n",
              "            await google.colab.kernel.invokeFunction('convertToInteractive',\n",
              "                                                     [key], {});\n",
              "          if (!dataTable) return;\n",
              "\n",
              "          const docLinkHtml = 'Like what you see? Visit the ' +\n",
              "            '<a target=\"_blank\" href=https://colab.research.google.com/notebooks/data_table.ipynb>data table notebook</a>'\n",
              "            + ' to learn more about interactive tables.';\n",
              "          element.innerHTML = '';\n",
              "          dataTable['output_type'] = 'display_data';\n",
              "          await google.colab.output.renderOutput(dataTable, element);\n",
              "          const docLink = document.createElement('div');\n",
              "          docLink.innerHTML = docLinkHtml;\n",
              "          element.appendChild(docLink);\n",
              "        }\n",
              "      </script>\n",
              "    </div>\n",
              "  </div>\n",
              "  "
            ]
          },
          "metadata": {},
          "execution_count": 97
        }
      ]
    },
    {
      "cell_type": "code",
      "source": [
        "from statsmodels.graphics.tsaplots import plot_acf, plot_pacf\n",
        "from statsmodels.tsa.arima_model import ARIMA"
      ],
      "metadata": {
        "id": "JmYaKCrgKqQW"
      },
      "execution_count": 98,
      "outputs": []
    },
    {
      "cell_type": "code",
      "source": [
        "from statsmodels.stats.stattools import durbin_watson\n",
        "from statsmodels.tsa.stattools import adfuller"
      ],
      "metadata": {
        "id": "HFMACZWjKsvA"
      },
      "execution_count": 99,
      "outputs": []
    },
    {
      "cell_type": "code",
      "source": [
        "from sklearn.metrics import mean_squared_error"
      ],
      "metadata": {
        "id": "GkQQ4-EURwwq"
      },
      "execution_count": 100,
      "outputs": []
    },
    {
      "cell_type": "code",
      "source": [
        "dw_stats = durbin_watson(df.Passengers)\n",
        "dw_stats"
      ],
      "metadata": {
        "colab": {
          "base_uri": "https://localhost:8080/"
        },
        "id": "jxuFEjFhK3tV",
        "outputId": "8f5f7d64-792a-4225-fd0d-cec82d60c4a4"
      },
      "execution_count": 101,
      "outputs": [
        {
          "output_type": "execute_result",
          "data": {
            "text/plain": [
              "0.0121527966037621"
            ]
          },
          "metadata": {},
          "execution_count": 101
        }
      ]
    },
    {
      "cell_type": "markdown",
      "source": [
        "Inference from dw stats = Positively autocorrelated data"
      ],
      "metadata": {
        "id": "tU1yELGoLsxt"
      }
    },
    {
      "cell_type": "code",
      "source": [
        "dickey_fuller = adfuller(x = df.Passengers)\n",
        "dickey_fuller"
      ],
      "metadata": {
        "colab": {
          "base_uri": "https://localhost:8080/"
        },
        "id": "DR8bLGXVLUjy",
        "outputId": "23cbfe4c-fa28-48ab-d54e-24e489eff93a"
      },
      "execution_count": 102,
      "outputs": [
        {
          "output_type": "execute_result",
          "data": {
            "text/plain": [
              "(0.8153688792060472,\n",
              " 0.991880243437641,\n",
              " 13,\n",
              " 130,\n",
              " {'1%': -3.4816817173418295,\n",
              "  '5%': -2.8840418343195267,\n",
              "  '10%': -2.578770059171598},\n",
              " 996.6929308390189)"
            ]
          },
          "metadata": {},
          "execution_count": 102
        }
      ]
    },
    {
      "cell_type": "markdown",
      "source": [
        "Inference from dickey_fuller stats:\n",
        "p-val > 0.05, Hence we fail to reject null hypothesis. So, data is non stationary"
      ],
      "metadata": {
        "id": "65mBcM-JLx6i"
      }
    },
    {
      "cell_type": "code",
      "source": [
        "acf = plot_acf(df.Passengers[0:50])"
      ],
      "metadata": {
        "colab": {
          "base_uri": "https://localhost:8080/",
          "height": 281
        },
        "id": "4mDbyVrYLo_v",
        "outputId": "abd3a2e0-8997-448d-fbbd-0fa4df018ae5"
      },
      "execution_count": 103,
      "outputs": [
        {
          "output_type": "display_data",
          "data": {
            "text/plain": [
              "<Figure size 432x288 with 1 Axes>"
            ],
            "image/png": "[encoded data removed]"
          },
          "metadata": {
            "needs_background": "light"
          }
        }
      ]
    },
    {
      "cell_type": "code",
      "source": [
        "pacf = plot_pacf(df.Passengers[0:50])"
      ],
      "metadata": {
        "colab": {
          "base_uri": "https://localhost:8080/",
          "height": 281
        },
        "id": "Gy745SIcMNvl",
        "outputId": "891927ae-1bab-4067-e4e4-0807252de185"
      },
      "execution_count": 104,
      "outputs": [
        {
          "output_type": "display_data",
          "data": {
            "text/plain": [
              "<Figure size 432x288 with 1 Axes>"
            ],
            "image/png": "[encoded data removed]"
          },
          "metadata": {
            "needs_background": "light"
          }
        }
      ]
    },
    {
      "cell_type": "markdown",
      "source": [
        "Inference:\n",
        "\n",
        "\n",
        "*   ACF plot gradually reduces to 0 after several 'q' lags (data shows signs of non-stationarity) => the same was confirmed by Dickey Fuller Test\n",
        "*   PACF plot immediately reduces to 0 after p = 1 lag\n",
        "\n"
      ],
      "metadata": {
        "id": "zu3m2jbXMYTC"
      }
    },
    {
      "cell_type": "markdown",
      "source": [
        "**Building AR(p) model:**\n",
        "\n",
        "\n",
        "*   order = (1,0,0)\n",
        "\n"
      ],
      "metadata": {
        "id": "cNQCH6ePNy8E"
      }
    },
    {
      "cell_type": "code",
      "source": [
        "order = (1,0,0)"
      ],
      "metadata": {
        "id": "P7YGbJHnMQtn"
      },
      "execution_count": 105,
      "outputs": []
    },
    {
      "cell_type": "code",
      "source": [
        "model = ARIMA(df.Passengers[0:50], order = order)"
      ],
      "metadata": {
        "id": "NKzb8SBIOCLU"
      },
      "execution_count": 106,
      "outputs": []
    },
    {
      "cell_type": "code",
      "source": [
        "AR_model = model.fit()"
      ],
      "metadata": {
        "id": "HUO6XeApOMBg"
      },
      "execution_count": 107,
      "outputs": []
    },
    {
      "cell_type": "code",
      "source": [
        "AR_model.summary2()"
      ],
      "metadata": {
        "colab": {
          "base_uri": "https://localhost:8080/",
          "height": 316
        },
        "id": "GRTeSLy3OQlN",
        "outputId": "586e8d1e-0e2d-488b-a069-64643de45a5e"
      },
      "execution_count": 108,
      "outputs": [
        {
          "output_type": "execute_result",
          "data": {
            "text/plain": [
              "<class 'statsmodels.iolib.summary2.Summary'>\n",
              "\"\"\"\n",
              "                           Results: ARMA\n",
              "===================================================================\n",
              "Model:               ARMA             BIC:                 427.9663\n",
              "Dependent Variable:  Passengers       Log-Likelihood:      -208.12 \n",
              "Date:                2022-08-29 11:12 Scale:               1.0000  \n",
              "No. Observations:    50               Method:              css-mle \n",
              "Df Model:            2                Sample:              0       \n",
              "Df Residuals:        48                                    0       \n",
              "Converged:           1.0000           S.D. of innovations: 15.289  \n",
              "No. Iterations:      15.0000          HQIC:                424.415 \n",
              "AIC:                 422.2303                                      \n",
              "-------------------------------------------------------------------\n",
              "                  Coef.   Std.Err.    t    P>|t|   [0.025   0.975] \n",
              "-------------------------------------------------------------------\n",
              "const            158.3756  17.9118  8.8420 0.0000 123.2692 193.4821\n",
              "ar.L1.Passengers   0.8958   0.0618 14.4952 0.0000   0.7747   1.0169\n",
              "----------------------------------------------------------------------------\n",
              "                Real           Imaginary          Modulus          Frequency\n",
              "----------------------------------------------------------------------------\n",
              "AR.1           1.1164             0.0000           1.1164             0.0000\n",
              "===================================================================\n",
              "\n",
              "\"\"\""
            ],
            "text/html": [
              "<table class=\"simpletable\">\n",
              "<tr>\n",
              "        <td>Model:</td>              <td>ARMA</td>               <td>BIC:</td>         <td>427.9663</td>\n",
              "</tr>\n",
              "<tr>\n",
              "  <td>Dependent Variable:</td>    <td>Passengers</td>       <td>Log-Likelihood:</td>    <td>-208.12</td>\n",
              "</tr>\n",
              "<tr>\n",
              "         <td>Date:</td>        <td>2022-08-29 11:12</td>        <td>Scale:</td>         <td>1.0000</td> \n",
              "</tr>\n",
              "<tr>\n",
              "   <td>No. Observations:</td>         <td>50</td>               <td>Method:</td>        <td>css-mle</td>\n",
              "</tr>\n",
              "<tr>\n",
              "       <td>Df Model:</td>              <td>2</td>               <td>Sample:</td>           <td>0</td>   \n",
              "</tr>\n",
              "<tr>\n",
              "     <td>Df Residuals:</td>           <td>48</td>                  <td></td>               <td>0</td>   \n",
              "</tr>\n",
              "<tr>\n",
              "      <td>Converged:</td>           <td>1.0000</td>      <td>S.D. of innovations:</td>  <td>15.289</td> \n",
              "</tr>\n",
              "<tr>\n",
              "    <td>No. Iterations:</td>        <td>15.0000</td>             <td>HQIC:</td>         <td>424.415</td>\n",
              "</tr>\n",
              "<tr>\n",
              "         <td>AIC:</td>             <td>422.2303</td>               <td></td>               <td></td>    \n",
              "</tr>\n",
              "</table>\n",
              "<table class=\"simpletable\">\n",
              "<tr>\n",
              "          <td></td>           <th>Coef.</th>  <th>Std.Err.</th>    <th>t</th>     <th>P>|t|</th>  <th>[0.025</th>   <th>0.975]</th> \n",
              "</tr>\n",
              "<tr>\n",
              "  <th>const</th>            <td>158.3756</td>  <td>17.9118</td> <td>8.8420</td>  <td>0.0000</td> <td>123.2692</td> <td>193.4821</td>\n",
              "</tr>\n",
              "<tr>\n",
              "  <th>ar.L1.Passengers</th>  <td>0.8958</td>   <td>0.0618</td>  <td>14.4952</td> <td>0.0000</td>  <td>0.7747</td>   <td>1.0169</td> \n",
              "</tr>\n",
              "</table>\n",
              "<table class=\"simpletable\">\n",
              "<tr>\n",
              "    <td></td>    <th>Real</th>  <th>Imaginary</th> <th>Modulus</th> <th>Frequency</th>\n",
              "</tr>\n",
              "<tr>\n",
              "  <th>AR.1</th> <td>1.1164</td>  <td>0.0000</td>   <td>1.1164</td>   <td>0.0000</td>  \n",
              "</tr>\n",
              "</table>"
            ]
          },
          "metadata": {},
          "execution_count": 108
        }
      ]
    },
    {
      "cell_type": "markdown",
      "source": [
        "Since, p-val < 0 => Hence, p = 1 lag (1st lag in PACF plot) is a significant variable in determining the autoregression of Passengers"
      ],
      "metadata": {
        "id": "3Le4AkdTOX03"
      }
    },
    {
      "cell_type": "code",
      "source": [
        "AR_model.pvalues"
      ],
      "metadata": {
        "colab": {
          "base_uri": "https://localhost:8080/"
        },
        "id": "tkDTyoCZOR7y",
        "outputId": "c65e9946-5db7-48e0-df26-635e5aeacc9e"
      },
      "execution_count": 109,
      "outputs": [
        {
          "output_type": "execute_result",
          "data": {
            "text/plain": [
              "const               9.403805e-19\n",
              "ar.L1.Passengers    1.300136e-47\n",
              "dtype: float64"
            ]
          },
          "metadata": {},
          "execution_count": 109
        }
      ]
    },
    {
      "cell_type": "code",
      "source": [
        "AR_forecast = np.round(AR_model.predict(50,60),0)"
      ],
      "metadata": {
        "id": "_KPOLQNAO9vp"
      },
      "execution_count": 110,
      "outputs": []
    },
    {
      "cell_type": "code",
      "source": [
        "AR_actual = df.Passengers[50:60]"
      ],
      "metadata": {
        "id": "AE-4ACxFPQV6"
      },
      "execution_count": 111,
      "outputs": []
    },
    {
      "cell_type": "code",
      "source": [
        "df_forecast = pd.DataFrame({'AR_actual':AR_actual,'AR_forecast':AR_forecast})"
      ],
      "metadata": {
        "id": "trAmhf1MQm-m"
      },
      "execution_count": 112,
      "outputs": []
    },
    {
      "cell_type": "code",
      "source": [
        "df_forecast"
      ],
      "metadata": {
        "colab": {
          "base_uri": "https://localhost:8080/",
          "height": 394
        },
        "id": "l793G5mWQ3_M",
        "outputId": "8aa47d15-22f5-43e2-9103-e94c49339db8"
      },
      "execution_count": 113,
      "outputs": [
        {
          "output_type": "execute_result",
          "data": {
            "text/plain": [
              "    AR_actual  AR_forecast\n",
              "50      236.0        192.0\n",
              "51      235.0        189.0\n",
              "52      229.0        185.0\n",
              "53      243.0        183.0\n",
              "54      264.0        180.0\n",
              "55      272.0        178.0\n",
              "56      237.0        176.0\n",
              "57      211.0        174.0\n",
              "58      180.0        172.0\n",
              "59      201.0        171.0\n",
              "60        NaN        170.0"
            ],
            "text/html": [
              "\n",
              "  <div id=\"df-d39f35a3-2866-4d82-97a4-23059324aec0\">\n",
              "    <div class=\"colab-df-container\">\n",
              "      <div>\n",
              "<style scoped>\n",
              "    .dataframe tbody tr th:only-of-type {\n",
              "        vertical-align: middle;\n",
              "    }\n",
              "\n",
              "    .dataframe tbody tr th {\n",
              "        vertical-align: top;\n",
              "    }\n",
              "\n",
              "    .dataframe thead th {\n",
              "        text-align: right;\n",
              "    }\n",
              "</style>\n",
              "<table border=\"1\" class=\"dataframe\">\n",
              "  <thead>\n",
              "    <tr style=\"text-align: right;\">\n",
              "      <th></th>\n",
              "      <th>AR_actual</th>\n",
              "      <th>AR_forecast</th>\n",
              "    </tr>\n",
              "  </thead>\n",
              "  <tbody>\n",
              "    <tr>\n",
              "      <th>50</th>\n",
              "      <td>236.0</td>\n",
              "      <td>192.0</td>\n",
              "    </tr>\n",
              "    <tr>\n",
              "      <th>51</th>\n",
              "      <td>235.0</td>\n",
              "      <td>189.0</td>\n",
              "    </tr>\n",
              "    <tr>\n",
              "      <th>52</th>\n",
              "      <td>229.0</td>\n",
              "      <td>185.0</td>\n",
              "    </tr>\n",
              "    <tr>\n",
              "      <th>53</th>\n",
              "      <td>243.0</td>\n",
              "      <td>183.0</td>\n",
              "    </tr>\n",
              "    <tr>\n",
              "      <th>54</th>\n",
              "      <td>264.0</td>\n",
              "      <td>180.0</td>\n",
              "    </tr>\n",
              "    <tr>\n",
              "      <th>55</th>\n",
              "      <td>272.0</td>\n",
              "      <td>178.0</td>\n",
              "    </tr>\n",
              "    <tr>\n",
              "      <th>56</th>\n",
              "      <td>237.0</td>\n",
              "      <td>176.0</td>\n",
              "    </tr>\n",
              "    <tr>\n",
              "      <th>57</th>\n",
              "      <td>211.0</td>\n",
              "      <td>174.0</td>\n",
              "    </tr>\n",
              "    <tr>\n",
              "      <th>58</th>\n",
              "      <td>180.0</td>\n",
              "      <td>172.0</td>\n",
              "    </tr>\n",
              "    <tr>\n",
              "      <th>59</th>\n",
              "      <td>201.0</td>\n",
              "      <td>171.0</td>\n",
              "    </tr>\n",
              "    <tr>\n",
              "      <th>60</th>\n",
              "      <td>NaN</td>\n",
              "      <td>170.0</td>\n",
              "    </tr>\n",
              "  </tbody>\n",
              "</table>\n",
              "</div>\n",
              "      <button class=\"colab-df-convert\" onclick=\"convertToInteractive('df-d39f35a3-2866-4d82-97a4-23059324aec0')\"\n",
              "              title=\"Convert this dataframe to an interactive table.\"\n",
              "              style=\"display:none;\">\n",
              "        \n",
              "  <svg xmlns=\"http://www.w3.org/2000/svg\" height=\"24px\"viewBox=\"0 0 24 24\"\n",
              "       width=\"24px\">\n",
              "    <path d=\"M0 0h24v24H0V0z\" fill=\"none\"/>\n",
              "    <path d=\"M18.56 5.44l.94 2.06.94-2.06 2.06-.94-2.06-.94-.94-2.06-.94 2.06-2.06.94zm-11 1L8.5 8.5l.94-2.06 2.06-.94-2.06-.94L8.5 2.5l-.94 2.06-2.06.94zm10 10l.94 2.06.94-2.06 2.06-.94-2.06-.94-.94-2.06-.94 2.06-2.06.94z\"/><path d=\"M17.41 7.96l-1.37-1.37c-.4-.4-.92-.59-1.43-.59-.52 0-1.04.2-1.43.59L10.3 9.45l-7.72 7.72c-.78.78-.78 2.05 0 2.83L4 21.41c.39.39.9.59 1.41.59.51 0 1.02-.2 1.41-.59l7.78-7.78 2.81-2.81c.8-.78.8-2.07 0-2.86zM5.41 20L4 18.59l7.72-7.72 1.47 1.35L5.41 20z\"/>\n",
              "  </svg>\n",
              "      </button>\n",
              "      \n",
              "  <style>\n",
              "    .colab-df-container {\n",
              "      display:flex;\n",
              "      flex-wrap:wrap;\n",
              "      gap: 12px;\n",
              "    }\n",
              "\n",
              "    .colab-df-convert {\n",
              "      background-color: #E8F0FE;\n",
              "      border: none;\n",
              "      border-radius: 50%;\n",
              "      cursor: pointer;\n",
              "      display: none;\n",
              "      fill: #1967D2;\n",
              "      height: 32px;\n",
              "      padding: 0 0 0 0;\n",
              "      width: 32px;\n",
              "    }\n",
              "\n",
              "    .colab-df-convert:hover {\n",
              "      background-color: #E2EBFA;\n",
              "      box-shadow: 0px 1px 2px rgba(60, 64, 67, 0.3), 0px 1px 3px 1px rgba(60, 64, 67, 0.15);\n",
              "      fill: #174EA6;\n",
              "    }\n",
              "\n",
              "    [theme=dark] .colab-df-convert {\n",
              "      background-color: #3B4455;\n",
              "      fill: #D2E3FC;\n",
              "    }\n",
              "\n",
              "    [theme=dark] .colab-df-convert:hover {\n",
              "      background-color: #434B5C;\n",
              "      box-shadow: 0px 1px 3px 1px rgba(0, 0, 0, 0.15);\n",
              "      filter: drop-shadow(0px 1px 2px rgba(0, 0, 0, 0.3));\n",
              "      fill: #FFFFFF;\n",
              "    }\n",
              "  </style>\n",
              "\n",
              "      <script>\n",
              "        const buttonEl =\n",
              "          document.querySelector('#df-d39f35a3-2866-4d82-97a4-23059324aec0 button.colab-df-convert');\n",
              "        buttonEl.style.display =\n",
              "          google.colab.kernel.accessAllowed ? 'block' : 'none';\n",
              "\n",
              "        async function convertToInteractive(key) {\n",
              "          const element = document.querySelector('#df-d39f35a3-2866-4d82-97a4-23059324aec0');\n",
              "          const dataTable =\n",
              "            await google.colab.kernel.invokeFunction('convertToInteractive',\n",
              "                                                     [key], {});\n",
              "          if (!dataTable) return;\n",
              "\n",
              "          const docLinkHtml = 'Like what you see? Visit the ' +\n",
              "            '<a target=\"_blank\" href=https://colab.research.google.com/notebooks/data_table.ipynb>data table notebook</a>'\n",
              "            + ' to learn more about interactive tables.';\n",
              "          element.innerHTML = '';\n",
              "          dataTable['output_type'] = 'display_data';\n",
              "          await google.colab.output.renderOutput(dataTable, element);\n",
              "          const docLink = document.createElement('div');\n",
              "          docLink.innerHTML = docLinkHtml;\n",
              "          element.appendChild(docLink);\n",
              "        }\n",
              "      </script>\n",
              "    </div>\n",
              "  </div>\n",
              "  "
            ]
          },
          "metadata": {},
          "execution_count": 113
        }
      ]
    },
    {
      "cell_type": "code",
      "source": [
        "def get_mape(actual, pred):\n",
        "  mape = np.round(np.mean(np.abs(100*(actual-pred)/actual)),2)\n",
        "  return mape"
      ],
      "metadata": {
        "id": "Zs7w-qyBQ5zh"
      },
      "execution_count": 114,
      "outputs": []
    },
    {
      "cell_type": "code",
      "source": [
        "AR_mape = get_mape(df_forecast.AR_actual[:9], df_forecast.AR_forecast[:9])\n",
        "AR_mape"
      ],
      "metadata": {
        "colab": {
          "base_uri": "https://localhost:8080/"
        },
        "id": "Hm5eUJBCRYS5",
        "outputId": "23f521f5-9ab7-48fa-b858-c607d7f35e47"
      },
      "execution_count": 115,
      "outputs": [
        {
          "output_type": "execute_result",
          "data": {
            "text/plain": [
              "21.8"
            ]
          },
          "metadata": {},
          "execution_count": 115
        }
      ]
    },
    {
      "cell_type": "code",
      "source": [
        "AR_rmse = np.round(np.sqrt(mean_squared_error(df_forecast.AR_actual[:9], df_forecast.AR_forecast[:9])),2)\n",
        "AR_rmse"
      ],
      "metadata": {
        "colab": {
          "base_uri": "https://localhost:8080/"
        },
        "id": "a-z6nFVORmTt",
        "outputId": "8237cb3c-3fda-468f-d3e1-76174c2d0fa0"
      },
      "execution_count": 116,
      "outputs": [
        {
          "output_type": "execute_result",
          "data": {
            "text/plain": [
              "58.34"
            ]
          },
          "metadata": {},
          "execution_count": 116
        }
      ]
    },
    {
      "cell_type": "markdown",
      "source": [
        "Plotting ACF and PACF plots for AR model residuals:"
      ],
      "metadata": {
        "id": "PD-XEJo9TWoL"
      }
    },
    {
      "cell_type": "code",
      "source": [
        "acf_resid = plot_acf(AR_model.resid)"
      ],
      "metadata": {
        "colab": {
          "base_uri": "https://localhost:8080/",
          "height": 281
        },
        "id": "jY129lRUSUzt",
        "outputId": "7e1cf7d3-9a51-4b4e-ab52-f8777848fdfa"
      },
      "execution_count": 117,
      "outputs": [
        {
          "output_type": "display_data",
          "data": {
            "text/plain": [
              "<Figure size 432x288 with 1 Axes>"
            ],
            "image/png": "[encoded data removed]"
          },
          "metadata": {
            "needs_background": "light"
          }
        }
      ]
    },
    {
      "cell_type": "code",
      "source": [
        "pacf_resid = plot_pacf(AR_model.resid)"
      ],
      "metadata": {
        "colab": {
          "base_uri": "https://localhost:8080/",
          "height": 281
        },
        "id": "zYk43LOETiZi",
        "outputId": "d2d6a170-718d-470f-8ae9-816203d9cdac"
      },
      "execution_count": 118,
      "outputs": [
        {
          "output_type": "display_data",
          "data": {
            "text/plain": [
              "<Figure size 432x288 with 1 Axes>"
            ],
            "image/png": "[encoded data removed]"
          },
          "metadata": {
            "needs_background": "light"
          }
        }
      ]
    },
    {
      "cell_type": "markdown",
      "source": [
        "Both ACF and PACF plots of AR model residuals immediately reduce to 0. This shows that AR model residuals are white noise and are not autocorrelated. "
      ],
      "metadata": {
        "id": "jXdzGLCDTm7v"
      }
    },
    {
      "cell_type": "code",
      "source": [],
      "metadata": {
        "id": "ZyD-U_-QTlKm"
      },
      "execution_count": null,
      "outputs": []
    }
  ]
}